{
  "nbformat": 4,
  "nbformat_minor": 0,
  "metadata": {
    "colab": {
      "provenance": [],
      "authorship_tag": "ABX9TyOM0HZWxkct+aakEBP7cdPm",
      "include_colab_link": true
    },
    "kernelspec": {
      "name": "python3",
      "display_name": "Python 3"
    },
    "language_info": {
      "name": "python"
    }
  },
  "cells": [
    {
      "cell_type": "markdown",
      "metadata": {
        "id": "view-in-github",
        "colab_type": "text"
      },
      "source": [
        "<a href=\"https://colab.research.google.com/github/Andyqballer/Linear-Regression-And-Gradient-Descent-Home-Work-One/blob/main/HomeWorkOneProblemTwoSolution.ipynb\" target=\"_parent\"><img src=\"https://colab.research.google.com/assets/colab-badge.svg\" alt=\"Open In Colab\"/></a>"
      ]
    },
    {
      "cell_type": "markdown",
      "source": [
        "Import and Data Loading:This section imports necessary libraries and loads the data from 'D3.csv'. It extracts all three explanatory variables (X1, X2, X3) as a single numpy array X, and the dependent variable as Y."
      ],
      "metadata": {
        "id": "24jICRGzpgNG"
      }
    },
    {
      "cell_type": "code",
      "execution_count": 2,
      "metadata": {
        "id": "chYK-iOBpZFz"
      },
      "outputs": [],
      "source": [
        "import numpy as np\n",
        "import pandas as pd\n",
        "import matplotlib.pyplot as plt\n",
        "from sklearn.preprocessing import StandardScaler\n",
        "\n",
        "data = pd.read_csv('D3.csv')\n",
        "X = data[['X1', 'X2', 'X3']].values\n",
        "y = data['Y'].values\n",
        "\n",
        "\n",
        "scaler = StandardScaler()\n",
        "X_scaled = scaler.fit_transform(X)"
      ]
    },
    {
      "cell_type": "markdown",
      "source": [
        "Gradient Descent Function:\n",
        "This function implements the gradient descent algorithm for multivariate linear regression. Key points:\n",
        "\n",
        "It adds a column of ones to X for the bias term.\n",
        "It initializes theta (model parameters) to zeros.\n",
        "It iteratively updates theta using the gradient of the mean squared error.\n",
        "It stops if the change in theta is below the tolerance or max_iterations is reached.\n",
        "It returns the optimized parameters, loss history, and number of iterations."
      ],
      "metadata": {
        "id": "pBMjqaJtplUj"
      }
    },
    {
      "cell_type": "code",
      "source": [
        "def gradient_descent(X, y, learning_rate, max_iterations, tolerance=1e-6):\n",
        "    m, n = X.shape\n",
        "    X_b = np.c_[np.ones((m, 1)), X]\n",
        "    theta = np.zeros((n + 1, 1))\n",
        "    y = y.reshape(-1, 1)\n",
        "    losses = []\n",
        "\n",
        "    for iteration in range(max_iterations):\n",
        "        predictions = X_b.dot(theta)\n",
        "        error = predictions - y\n",
        "        gradients = 2/m * X_b.T.dot(error)\n",
        "        theta_new = theta - learning_rate * gradients\n",
        "\n",
        "        loss = (1/m) * np.sum(np.square(error))\n",
        "        losses.append(loss)\n",
        "\n",
        "        if np.all(np.abs(theta_new - theta) < tolerance):\n",
        "            break\n",
        "\n",
        "        theta = theta_new\n",
        "\n",
        "        if np.isnan(loss) or np.isinf(loss) or np.any(np.isnan(theta)) or np.any(np.isinf(theta)):\n",
        "            print(f\"Encountered NaN or Inf at iteration {iteration}. Stopping early.\")\n",
        "            break\n",
        "\n",
        "    return theta, losses, iteration + 1"
      ],
      "metadata": {
        "id": "8WZAmJxIptHf"
      },
      "execution_count": 3,
      "outputs": []
    },
    {
      "cell_type": "markdown",
      "source": [
        "Setup Parameters: This sets up the learning rates to be tested, maximum iterations, and a dictionary to store results."
      ],
      "metadata": {
        "id": "9goB0Tbvp10i"
      }
    },
    {
      "cell_type": "code",
      "source": [
        "learning_rates = [0.1, 0.01, 0.001]\n",
        "max_iterations = 10000\n",
        "results = {}"
      ],
      "metadata": {
        "id": "IebhOXhNp4wq"
      },
      "execution_count": 4,
      "outputs": []
    },
    {
      "cell_type": "markdown",
      "source": [
        "Training Loop:This loop runs the gradient descent algorithm for each learning rate, stores the results, and plots the loss over iterations."
      ],
      "metadata": {
        "id": "Z4xzpaZXqKin"
      }
    },
    {
      "cell_type": "code",
      "source": [
        "plt.figure(figsize=(15, 5))\n",
        "for i, lr in enumerate(learning_rates):\n",
        "    print(f\"\\nTraining with Learning Rate: {lr}\")\n",
        "    theta, losses, iterations = gradient_descent(X_scaled, y, learning_rate=lr, max_iterations=max_iterations)\n",
        "    results[lr] = (theta, losses, iterations)\n",
        "\n",
        "    print(f\"Final Loss: {losses[-1]:.6f}\")\n",
        "    print(f\"Iterations: {iterations}\")\n",
        "    print(f\"Model: Y = {theta[0][0]:.4f} + {theta[1][0]:.4f}*X1 + {theta[2][0]:.4f}*X2 + {theta[3][0]:.4f}*X3\")\n",
        "\n",
        "    plt.subplot(1, 3, i+1)\n",
        "    plt.plot(losses)\n",
        "    plt.xlabel(\"Iterations\")\n",
        "    plt.ylabel(\"Loss\")\n",
        "    plt.title(f\"Loss Over Iterations (LR={lr})\")\n",
        "    plt.yscale('log')\n",
        "\n",
        "plt.tight_layout()\n",
        "plt.savefig('multivariate_loss_plot.png')\n",
        "plt.show()"
      ],
      "metadata": {
        "colab": {
          "base_uri": "https://localhost:8080/",
          "height": 767
        },
        "id": "VzDQO-rxqN6b",
        "outputId": "5f8b289b-9d37-49bf-ed47-25edaa0485d6"
      },
      "execution_count": 5,
      "outputs": [
        {
          "output_type": "stream",
          "name": "stdout",
          "text": [
            "\n",
            "Training with Learning Rate: 0.1\n",
            "Final Loss: 1.476928\n",
            "Iterations: 64\n",
            "Model: Y = 1.8513 + -2.3369*X1 + 0.6211*X2 + -0.3074*X3\n",
            "\n",
            "Training with Learning Rate: 0.01\n",
            "Final Loss: 1.476928\n",
            "Iterations: 558\n",
            "Model: Y = 1.8513 + -2.3369*X1 + 0.6211*X2 + -0.3074*X3\n",
            "\n",
            "Training with Learning Rate: 0.001\n",
            "Final Loss: 1.476929\n",
            "Iterations: 4355\n",
            "Model: Y = 1.8510 + -2.3364*X1 + 0.6210*X2 + -0.3078*X3\n"
          ]
        },
        {
          "output_type": "display_data",
          "data": {
            "text/plain": [
              "<Figure size 1500x500 with 3 Axes>"
            ],
            "image/png": "[encoded data removed]"
          },
          "metadata": {}
        }
      ]
    },
    {
      "cell_type": "markdown",
      "source": [
        "Loss Plotting:\n",
        "This creates and saves a plot of the loss over iterations for each learning rate, using a logarithmic scale for the y-axis to better visualize the convergence."
      ],
      "metadata": {
        "id": "nJGSqY8sqaup"
      }
    },
    {
      "cell_type": "markdown",
      "source": [
        "Best Model Selection:\n",
        "This code determines which learning rate resulted in the lowest final loss and retrieves the corresponding model parameters."
      ],
      "metadata": {
        "id": "4eFEsnQMqoPk"
      }
    },
    {
      "cell_type": "code",
      "source": [
        "best_lr = min(results, key=lambda x: results[x][1][-1])\n",
        "best_theta, best_losses, best_iterations = results[best_lr]\n",
        "\n",
        "print(\"\\n1. Best Model:\")\n",
        "print(f\"Learning Rate: {best_lr}\")\n",
        "print(f\"Final Loss: {best_losses[-1]:.6f}\")\n",
        "print(f\"Iterations: {best_iterations}\")\n",
        "print(f\"Model: Y = {best_theta[0][0]:.4f} + {best_theta[1][0]:.4f}*X1 + {best_theta[2][0]:.4f}*X2 + {best_theta[3][0]:.4f}*X3\")\n"
      ],
      "metadata": {
        "colab": {
          "base_uri": "https://localhost:8080/"
        },
        "id": "S-2ZE7LzqtEE",
        "outputId": "448cb1a1-ede6-41ce-be77-2f567c8823ac"
      },
      "execution_count": 6,
      "outputs": [
        {
          "output_type": "stream",
          "name": "stdout",
          "text": [
            "\n",
            "1. Best Model:\n",
            "Learning Rate: 0.1\n",
            "Final Loss: 1.476928\n",
            "Iterations: 64\n",
            "Model: Y = 1.8513 + -2.3369*X1 + 0.6211*X2 + -0.3074*X3\n"
          ]
        }
      ]
    },
    {
      "cell_type": "markdown",
      "source": [
        "Predictions for New Points:This section uses the best model to make predictions for the specified new data points."
      ],
      "metadata": {
        "id": "hAhDALqkqu-0"
      }
    },
    {
      "cell_type": "code",
      "source": [
        "print(\"\\n3. Impact of Learning Rates:\")\n",
        "for lr, (_, losses, iterations) in results.items():\n",
        "    print(f\"\\nLearning Rate {lr}:\")\n",
        "    print(f\"  Final Loss: {losses[-1]:.6f}\")\n",
        "    print(f\"  Iterations: {iterations}\")\n",
        "\n",
        "# Predict for new values\n",
        "new_points = np.array([[1, 1, 1], [2, 0, 4], [3, 2, 1]])\n",
        "new_points_scaled = scaler.transform(new_points)\n",
        "predictions = np.c_[np.ones((3, 1)), new_points_scaled].dot(best_theta)\n",
        "\n",
        "print(\"\\n4. Predictions:\")\n",
        "for point, pred in zip(new_points, predictions):\n",
        "    print(f\"For (X1, X2, X3) = {tuple(point)}: Predicted Y = {pred[0]:.4f}\")"
      ],
      "metadata": {
        "colab": {
          "base_uri": "https://localhost:8080/"
        },
        "id": "-4IFxHMNq3qe",
        "outputId": "d64b375a-65af-4400-a624-c9f74f7982e7"
      },
      "execution_count": null,
      "outputs": [
        {
          "output_type": "stream",
          "name": "stdout",
          "text": [
            "\n",
            "Predictions:\n",
            "For (X1, X2, X3) = (1, 1, 1): Predicted Y = nan\n",
            "For (X1, X2, X3) = (2, 0, 4): Predicted Y = nan\n",
            "For (X1, X2, X3) = (3, 2, 1): Predicted Y = nan\n",
            "\n",
            "Impact of Learning Rates:\n",
            "\n",
            "Learning Rate 0.1:\n",
            "  Final Loss: nan\n",
            "  Iterations: 10000\n",
            "\n",
            "Learning Rate 0.01:\n",
            "  Final Loss: 1.476929\n",
            "  Iterations: 4634\n",
            "\n",
            "Learning Rate 0.001:\n",
            "  Final Loss: 1.530185\n",
            "  Iterations: 10000\n"
          ]
        }
      ]
    }
  ]
}