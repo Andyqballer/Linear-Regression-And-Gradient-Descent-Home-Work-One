{
  "nbformat": 4,
  "nbformat_minor": 0,
  "metadata": {
    "colab": {
      "provenance": [],
      "authorship_tag": "ABX9TyO6Pz0Ta8ZGTCortDADB5Il",
      "include_colab_link": true
    },
    "kernelspec": {
      "name": "python3",
      "display_name": "Python 3"
    },
    "language_info": {
      "name": "python"
    }
  },
  "cells": [
    {
      "cell_type": "markdown",
      "metadata": {
        "id": "view-in-github",
        "colab_type": "text"
      },
      "source": [
        "<a href=\"https://colab.research.google.com/github/Andyqballer/Linear-Regression-And-Gradient-Descent-Home-Work-One/blob/main/HomeWorkOneProblemTwoSolution.ipynb\" target=\"_parent\"><img src=\"https://colab.research.google.com/assets/colab-badge.svg\" alt=\"Open In Colab\"/></a>"
      ]
    },
    {
      "cell_type": "markdown",
      "source": [
        "Import and Data Loading:This section imports necessary libraries and loads the data from 'D3.csv'. It extracts all three explanatory variables (X1, X2, X3) as a single numpy array X, and the dependent variable as Y."
      ],
      "metadata": {
        "id": "24jICRGzpgNG"
      }
    },
    {
      "cell_type": "code",
      "execution_count": 8,
      "metadata": {
        "id": "chYK-iOBpZFz"
      },
      "outputs": [],
      "source": [
        "import numpy as np\n",
        "import pandas as pd\n",
        "import matplotlib.pyplot as plt\n",
        "\n",
        "data = pd.read_csv('D3.csv')\n",
        "X = data[['X1', 'X2', 'X3']].values\n",
        "Y = data['Y'].values"
      ]
    },
    {
      "cell_type": "markdown",
      "source": [
        "Gradient Descent Function:\n",
        "This function implements the gradient descent algorithm for multivariate linear regression. Key points:\n",
        "\n",
        "It adds a column of ones to X for the bias term.\n",
        "It initializes theta (model parameters) to zeros.\n",
        "It iteratively updates theta using the gradient of the mean squared error.\n",
        "It stops if the change in theta is below the tolerance or max_iterations is reached.\n",
        "It returns the optimized parameters, loss history, and number of iterations."
      ],
      "metadata": {
        "id": "pBMjqaJtplUj"
      }
    },
    {
      "cell_type": "code",
      "source": [
        "def gradient_descent(X, y, learning_rate, max_iterations, tolerance=1e-6):\n",
        "    m, n = X.shape\n",
        "    X_b = np.c_[np.ones((m, 1)), X]\n",
        "    theta = np.zeros((n + 1, 1))\n",
        "    y = y.reshape(-1, 1)\n",
        "    losses = []\n",
        "\n",
        "    for iteration in range(max_iterations):\n",
        "        gradients = 2/m * X_b.T.dot(X_b.dot(theta) - y)\n",
        "        theta_new = theta - learning_rate * gradients\n",
        "\n",
        "        loss = (1/m) * np.sum(np.square(X_b.dot(theta) - y))\n",
        "        losses.append(loss)\n",
        "\n",
        "        if np.all(np.abs(theta_new - theta) < tolerance):\n",
        "            break\n",
        "\n",
        "        theta = theta_new\n",
        "\n",
        "    return theta, losses, iteration + 1"
      ],
      "metadata": {
        "id": "8WZAmJxIptHf"
      },
      "execution_count": 9,
      "outputs": []
    },
    {
      "cell_type": "markdown",
      "source": [
        "Setup Parameters: This sets up the learning rates to be tested, maximum iterations, and a dictionary to store results."
      ],
      "metadata": {
        "id": "9goB0Tbvp10i"
      }
    },
    {
      "cell_type": "code",
      "source": [
        "learning_rates = [0.1, 0.01, 0.001]\n",
        "max_iterations = 10000\n",
        "results = {}"
      ],
      "metadata": {
        "id": "IebhOXhNp4wq"
      },
      "execution_count": 10,
      "outputs": []
    },
    {
      "cell_type": "markdown",
      "source": [
        "Training Loop:This loop runs the gradient descent algorithm for each learning rate, stores the results, and plots the loss over iterations."
      ],
      "metadata": {
        "id": "Z4xzpaZXqKin"
      }
    },
    {
      "cell_type": "code",
      "source": [
        "plt.figure(figsize=(10, 6))\n",
        "for lr in learning_rates:\n",
        "    print(f\"\\nTraining with Learning Rate: {lr}\")\n",
        "    theta, losses, iterations = gradient_descent(X, Y, learning_rate=lr, max_iterations=max_iterations)\n",
        "    results[lr] = (theta, losses, iterations)\n",
        "\n",
        "    print(f\"Final Loss: {losses[-1]:.6f}\")\n",
        "    print(f\"Iterations: {iterations}\")\n",
        "    print(f\"Model: Y = {theta[0][0]:.4f} + {theta[1][0]:.4f}*X1 + {theta[2][0]:.4f}*X2 + {theta[3][0]:.4f}*X3\")\n",
        "\n",
        "    plt.plot(losses, label=f\"LR={lr}\")\n",
        "\n",
        "plt.xlabel(\"Iterations\")\n",
        "plt.ylabel(\"Loss\")\n",
        "plt.title(\"Loss Over Iterations for Different Learning Rates\")\n",
        "plt.legend()\n",
        "plt.yscale('log')\n",
        "plt.savefig('multivariate_loss_plot.png')\n",
        "plt.show()\n"
      ],
      "metadata": {
        "colab": {
          "base_uri": "https://localhost:8080/",
          "height": 929
        },
        "id": "VzDQO-rxqN6b",
        "outputId": "5613f413-eb46-47ff-ff7c-52770c0e854e"
      },
      "execution_count": 11,
      "outputs": [
        {
          "output_type": "stream",
          "name": "stdout",
          "text": [
            "\n",
            "Training with Learning Rate: 0.1\n"
          ]
        },
        {
          "output_type": "stream",
          "name": "stderr",
          "text": [
            "/usr/local/lib/python3.10/dist-packages/numpy/core/fromnumeric.py:88: RuntimeWarning: overflow encountered in reduce\n",
            "  return ufunc.reduce(obj, axis, dtype, out, **passkwargs)\n",
            "<ipython-input-9-246171d60d50>:12: RuntimeWarning: overflow encountered in square\n",
            "  loss = (1/m) * np.sum(np.square(X_b.dot(theta) - y))\n"
          ]
        },
        {
          "output_type": "stream",
          "name": "stdout",
          "text": [
            "Final Loss: nan\n",
            "Iterations: 10000\n",
            "Model: Y = nan + nan*X1 + nan*X2 + nan*X3\n",
            "\n",
            "Training with Learning Rate: 0.01\n",
            "Final Loss: 1.476929\n",
            "Iterations: 4634\n",
            "Model: Y = 5.3137 + -2.0036*X1 + 0.5326*X2 + -0.2655*X3\n",
            "\n",
            "Training with Learning Rate: 0.001\n",
            "Final Loss: 1.530185\n",
            "Iterations: 10000\n",
            "Model: Y = 4.6073 + -1.9039*X1 + 0.6494*X2 + -0.1620*X3\n"
          ]
        },
        {
          "output_type": "stream",
          "name": "stderr",
          "text": [
            "/usr/local/lib/python3.10/dist-packages/matplotlib/scale.py:253: RuntimeWarning: overflow encountered in power\n",
            "  return np.power(self.base, a)\n"
          ]
        },
        {
          "output_type": "display_data",
          "data": {
            "text/plain": [
              "<Figure size 1000x600 with 1 Axes>"
            ],
            "image/png": "[encoded data removed]"
          },
          "metadata": {}
        }
      ]
    },
    {
      "cell_type": "markdown",
      "source": [
        "Loss Plotting:\n",
        "This creates and saves a plot of the loss over iterations for each learning rate, using a logarithmic scale for the y-axis to better visualize the convergence."
      ],
      "metadata": {
        "id": "nJGSqY8sqaup"
      }
    },
    {
      "cell_type": "markdown",
      "source": [
        "Best Model Selection:\n",
        "This code determines which learning rate resulted in the lowest final loss and retrieves the corresponding model parameters."
      ],
      "metadata": {
        "id": "4eFEsnQMqoPk"
      }
    },
    {
      "cell_type": "code",
      "source": [
        "best_lr = min(results, key=lambda x: results[x][1][-1])\n",
        "best_theta, best_losses, best_iterations = results[best_lr]\n",
        "\n",
        "print(\"\\nBest Model:\")\n",
        "print(f\"Learning Rate: {best_lr}\")\n",
        "print(f\"Final Loss: {best_losses[-1]:.6f}\")\n",
        "print(f\"Iterations: {best_iterations}\")\n",
        "print(f\"Model: Y = {best_theta[0][0]:.4f} + {best_theta[1][0]:.4f}*X1 + {best_theta[2][0]:.4f}*X2 + {best_theta[3][0]:.4f}*X3\")\n"
      ],
      "metadata": {
        "colab": {
          "base_uri": "https://localhost:8080/"
        },
        "id": "S-2ZE7LzqtEE",
        "outputId": "abe0b337-af9b-40b6-bb6a-e466101f2b46"
      },
      "execution_count": 12,
      "outputs": [
        {
          "output_type": "stream",
          "name": "stdout",
          "text": [
            "\n",
            "Best Model:\n",
            "Learning Rate: 0.1\n",
            "Final Loss: nan\n",
            "Iterations: 10000\n",
            "Model: Y = nan + nan*X1 + nan*X2 + nan*X3\n"
          ]
        }
      ]
    },
    {
      "cell_type": "markdown",
      "source": [
        "Predictions for New Points:This section uses the best model to make predictions for the specified new data points."
      ],
      "metadata": {
        "id": "hAhDALqkqu-0"
      }
    },
    {
      "cell_type": "code",
      "source": [
        "# Predict for new values\n",
        "new_points = np.array([[1, 1, 1], [2, 0, 4], [3, 2, 1]])\n",
        "predictions = np.c_[np.ones((3, 1)), new_points].dot(best_theta)\n",
        "\n",
        "print(\"\\nPredictions:\")\n",
        "for point, pred in zip(new_points, predictions):\n",
        "    print(f\"For (X1, X2, X3) = {tuple(point)}: Predicted Y = {pred[0]:.4f}\")\n",
        "\n",
        "print(\"\\nImpact of Learning Rates:\")\n",
        "for lr, (_, losses, iterations) in results.items():\n",
        "    print(f\"\\nLearning Rate {lr}:\")\n",
        "    print(f\"  Final Loss: {losses[-1]:.6f}\")\n",
        "    print(f\"  Iterations: {iterations}\")"
      ],
      "metadata": {
        "colab": {
          "base_uri": "https://localhost:8080/"
        },
        "id": "-4IFxHMNq3qe",
        "outputId": "d64b375a-65af-4400-a624-c9f74f7982e7"
      },
      "execution_count": 13,
      "outputs": [
        {
          "output_type": "stream",
          "name": "stdout",
          "text": [
            "\n",
            "Predictions:\n",
            "For (X1, X2, X3) = (1, 1, 1): Predicted Y = nan\n",
            "For (X1, X2, X3) = (2, 0, 4): Predicted Y = nan\n",
            "For (X1, X2, X3) = (3, 2, 1): Predicted Y = nan\n",
            "\n",
            "Impact of Learning Rates:\n",
            "\n",
            "Learning Rate 0.1:\n",
            "  Final Loss: nan\n",
            "  Iterations: 10000\n",
            "\n",
            "Learning Rate 0.01:\n",
            "  Final Loss: 1.476929\n",
            "  Iterations: 4634\n",
            "\n",
            "Learning Rate 0.001:\n",
            "  Final Loss: 1.530185\n",
            "  Iterations: 10000\n"
          ]
        }
      ]
    }
  ]
}